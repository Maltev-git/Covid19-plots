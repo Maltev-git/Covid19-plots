{
 "cells": [
  {
   "cell_type": "markdown",
   "metadata": {},
   "source": [
    "2020-03-29 updated Malte Venzmer\n",
    "\n",
    "# Covid-19 prediction plots\n",
    "\n",
    "The fit curves are based on the current data, i.e., they only are valid for an unchanged situation. \n",
    "\n",
    "Data source: 2019 Novel Coronavirus COVID-19 (2019-nCoV) [Data Repository](https://github.com/CSSEGISandData/COVID-19) by Johns Hopkins CSSE.\n"
   ]
  },
  {
   "cell_type": "markdown",
   "metadata": {},
   "source": [
    "### Case history\n",
    "\n",
    "<a href=\"plot_covid19_timeseries_history.png\" ><img src=\"plot_covid19_timeseries_history.png\" width=\"800\" title=\"plot_covid19_timeseries_history.png\"></a>\n",
    "\n",
    "\n",
    "### Logistic fit up to 70 % of region's population\n",
    "\n",
    "Reason for 70% limit: One infected person spreads it on average to 3 others. If 2 of 3 (67%) have it already, the number of active cases stays constant.\n",
    "Source: [Government press conference (2020-03-11)](https://www.bundesregierung.de/breg-de/themen/coronavirus/merkel-zu-corona-1729780).\n",
    "\n",
    "<a href=\"plot_covid19_timeseries_logistic_fit.png\" ><img src=\"plot_covid19_timeseries_logistic_fit.png\" width=\"800\" title=\"plot_covid19_timeseries_logistic_fit.png\"></a>\n",
    "\n",
    "\n",
    "### Prediction for Germany\n",
    "\n",
    "The median time between onset of symptoms and death is 8-12 days, according to sources cited in Wikipedia. A delay value of 10 days is used in these plots and a case fatality rate of 2.3 %.\n",
    "\n",
    "There are a total of 28.000 intensive care unit (ICU) beds in Germany, according to [Statistisches Bundesamt](https://www.destatis.de/DE/Presse/Pressemitteilungen/2020/03/PD20_N011_231.html).\n",
    "\n",
    "There are 4814 ICU beds that are available within 1 day (as of 2020-03-20), according to [DIVI](https://www.divi.de/aktuelle-meldungen-intensivmedizin/covid-19-erste-daten-fuer-die-anzahl-von-patienten-sowie-verfuegbaren-intensivbetten).\n",
    "\n",
    "\n",
    "<a href=\"plot_covid19_timeseries_predictions_de.png\" ><img src=\"plot_covid19_timeseries_predictions_de.png\" width=\"800\" title=\"plot_covid19_timeseries_predictions_de.png\"></a>\n",
    "\n",
    "\n",
    "### Progress of flattening the curve in Germany\n",
    "\n",
    "<a href=\"plot_covid19_timeseries_change_de.png\" ><img src=\"plot_covid19_timeseries_change_de.png\" width=\"800\" title=\"plot_covid19_timeseries_change_de.png\"></a>\n"
   ]
  }
 ],
 "metadata": {
  "kernelspec": {
   "display_name": "Python 3",
   "language": "python",
   "name": "python3"
  },
  "language_info": {
   "codemirror_mode": {
    "name": "ipython",
    "version": 3
   },
   "file_extension": ".py",
   "mimetype": "text/x-python",
   "name": "python",
   "nbconvert_exporter": "python",
   "pygments_lexer": "ipython3",
   "version": "3.6.4"
  }
 },
 "nbformat": 4,
 "nbformat_minor": 2
}
